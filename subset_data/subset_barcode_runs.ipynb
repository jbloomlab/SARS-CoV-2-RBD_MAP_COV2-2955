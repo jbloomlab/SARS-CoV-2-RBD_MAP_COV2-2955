{
 "cells": [
  {
   "cell_type": "markdown",
   "metadata": {},
   "source": [
    "# Subset barcode runs\n",
    "This Python Jupyter notebook is creates a copy of the barcode runs file that contains just specific samples.\n",
    "\n",
    "First, import Python modules:"
   ]
  },
  {
   "cell_type": "code",
   "execution_count": 1,
   "metadata": {},
   "outputs": [],
   "source": [
    "import os\n",
    "\n",
    "import pandas as pd\n",
    "\n",
    "import yaml"
   ]
  },
  {
   "cell_type": "markdown",
   "metadata": {},
   "source": [
    "Read in the \"master\" barcode runs CSV file and the runs used to compute the escape scores for each sample:"
   ]
  },
  {
   "cell_type": "code",
   "execution_count": 2,
   "metadata": {},
   "outputs": [
    {
     "name": "stdout",
     "output_type": "stream",
     "text": [
      "Reading barcode runs from ../data/barcode_runs.csv\n",
      "Reading escape score samples from ../results/escape_scores/samples.csv\n"
     ]
    }
   ],
   "source": [
    "with open('../config.yaml') as f:\n",
    "    config = yaml.safe_load(f)\n",
    "\n",
    "barcode_runs_file = os.path.join('../', config['barcode_runs'])\n",
    "print(f\"Reading barcode runs from {barcode_runs_file}\")\n",
    "barcode_runs = pd.read_csv(barcode_runs_file)\n",
    "\n",
    "escape_score_samples_file = os.path.join('../', config['escape_score_samples'])\n",
    "print(f\"Reading escape score samples from {escape_score_samples_file}\")\n",
    "escape_score_samples = pd.read_csv(escape_score_samples_file)"
   ]
  },
  {
   "cell_type": "markdown",
   "metadata": {},
   "source": [
    "Now read in the samples to subset:"
   ]
  },
  {
   "cell_type": "code",
   "execution_count": 3,
   "metadata": {},
   "outputs": [
    {
     "name": "stdout",
     "output_type": "stream",
     "text": [
      "Here are the samples we will subset to:\n"
     ]
    },
    {
     "data": {
      "text/html": [
       "<div>\n",
       "<style scoped>\n",
       "    .dataframe tbody tr th:only-of-type {\n",
       "        vertical-align: middle;\n",
       "    }\n",
       "\n",
       "    .dataframe tbody tr th {\n",
       "        vertical-align: top;\n",
       "    }\n",
       "\n",
       "    .dataframe thead th {\n",
       "        text-align: right;\n",
       "    }\n",
       "</style>\n",
       "<table border=\"1\" class=\"dataframe\">\n",
       "  <thead>\n",
       "    <tr style=\"text-align: right;\">\n",
       "      <th></th>\n",
       "      <th>sample</th>\n",
       "    </tr>\n",
       "  </thead>\n",
       "  <tbody>\n",
       "    <tr>\n",
       "      <th>0</th>\n",
       "      <td>COV2-2955_400</td>\n",
       "    </tr>\n",
       "  </tbody>\n",
       "</table>\n",
       "</div>"
      ],
      "text/plain": [
       "          sample\n",
       "0  COV2-2955_400"
      ]
     },
     "metadata": {},
     "output_type": "display_data"
    }
   ],
   "source": [
    "samples_to_subset_df = pd.read_csv('samples_to_subset.csv')\n",
    "print('Here are the samples we will subset to:')\n",
    "display(samples_to_subset_df)\n",
    "\n",
    "samples_to_subset = samples_to_subset_df['sample'].tolist()\n",
    "assert len(samples_to_subset) == len(set(samples_to_subset)), 'duplicate samples to subset'"
   ]
  },
  {
   "cell_type": "markdown",
   "metadata": {},
   "source": [
    "Now get all the escape-score samples of interest:"
   ]
  },
  {
   "cell_type": "code",
   "execution_count": 4,
   "metadata": {},
   "outputs": [
    {
     "name": "stdout",
     "output_type": "stream",
     "text": [
      "Here are the samples for which we are subsetting barcode runs:\n"
     ]
    },
    {
     "data": {
      "text/html": [
       "<div>\n",
       "<style scoped>\n",
       "    .dataframe tbody tr th:only-of-type {\n",
       "        vertical-align: middle;\n",
       "    }\n",
       "\n",
       "    .dataframe tbody tr th {\n",
       "        vertical-align: top;\n",
       "    }\n",
       "\n",
       "    .dataframe thead th {\n",
       "        text-align: right;\n",
       "    }\n",
       "</style>\n",
       "<table border=\"1\" class=\"dataframe\">\n",
       "  <thead>\n",
       "    <tr style=\"text-align: right;\">\n",
       "      <th></th>\n",
       "      <th>name</th>\n",
       "      <th>library</th>\n",
       "      <th>antibody</th>\n",
       "      <th>concentration</th>\n",
       "      <th>concentration_units</th>\n",
       "      <th>date</th>\n",
       "      <th>pre_sample</th>\n",
       "      <th>post_sample</th>\n",
       "      <th>frac_escape</th>\n",
       "      <th>pre_cells_sorted</th>\n",
       "      <th>post_cells_sorted</th>\n",
       "    </tr>\n",
       "  </thead>\n",
       "  <tbody>\n",
       "    <tr>\n",
       "      <th>0</th>\n",
       "      <td>COV2-2955_400</td>\n",
       "      <td>lib1</td>\n",
       "      <td>COV2-2955</td>\n",
       "      <td>400</td>\n",
       "      <td>ng_per_mL</td>\n",
       "      <td>210319</td>\n",
       "      <td>expt_123-129-none-0-reference</td>\n",
       "      <td>expt_128-COV2-2955-400-escape</td>\n",
       "      <td>0.192</td>\n",
       "      <td>2015511.0</td>\n",
       "      <td>NaN</td>\n",
       "    </tr>\n",
       "    <tr>\n",
       "      <th>1</th>\n",
       "      <td>COV2-2955_400</td>\n",
       "      <td>lib2</td>\n",
       "      <td>COV2-2955</td>\n",
       "      <td>400</td>\n",
       "      <td>ng_per_mL</td>\n",
       "      <td>210319</td>\n",
       "      <td>expt_123-129-none-0-reference</td>\n",
       "      <td>expt_128-COV2-2955-400-escape</td>\n",
       "      <td>0.191</td>\n",
       "      <td>2010148.0</td>\n",
       "      <td>NaN</td>\n",
       "    </tr>\n",
       "  </tbody>\n",
       "</table>\n",
       "</div>"
      ],
      "text/plain": [
       "            name library   antibody concentration concentration_units    date  \\\n",
       "0  COV2-2955_400    lib1  COV2-2955           400           ng_per_mL  210319   \n",
       "1  COV2-2955_400    lib2  COV2-2955           400           ng_per_mL  210319   \n",
       "\n",
       "                      pre_sample                    post_sample  frac_escape  \\\n",
       "0  expt_123-129-none-0-reference  expt_128-COV2-2955-400-escape        0.192   \n",
       "1  expt_123-129-none-0-reference  expt_128-COV2-2955-400-escape        0.191   \n",
       "\n",
       "   pre_cells_sorted  post_cells_sorted  \n",
       "0         2015511.0                NaN  \n",
       "1         2010148.0                NaN  "
      ]
     },
     "metadata": {},
     "output_type": "display_data"
    }
   ],
   "source": [
    "if not set(samples_to_subset).issubset(escape_score_samples['name']):\n",
    "    raise ValueError(f\"Not all samples to subset are in the escape score samples.\")\n",
    "    \n",
    "samples_subset = (\n",
    "    escape_score_samples\n",
    "    .query('name in @samples_to_subset')\n",
    "    .reset_index(drop=True)\n",
    "    )\n",
    "\n",
    "print(f\"Here are the samples for which we are subsetting barcode runs:\")\n",
    "display(samples_subset)"
   ]
  },
  {
   "cell_type": "markdown",
   "metadata": {},
   "source": [
    "Now unfold the samples of interest into the actual relevant barcode runs (this requires getting both the pre- and post-selection run for each sample):"
   ]
  },
  {
   "cell_type": "code",
   "execution_count": 5,
   "metadata": {},
   "outputs": [
    {
     "name": "stdout",
     "output_type": "stream",
     "text": [
      "Here are the subsetted barcode runs. Writing to barcode_runs_subset.csv\n"
     ]
    },
    {
     "data": {
      "text/html": [
       "<div>\n",
       "<style scoped>\n",
       "    .dataframe tbody tr th:only-of-type {\n",
       "        vertical-align: middle;\n",
       "    }\n",
       "\n",
       "    .dataframe tbody tr th {\n",
       "        vertical-align: top;\n",
       "    }\n",
       "\n",
       "    .dataframe thead th {\n",
       "        text-align: right;\n",
       "    }\n",
       "</style>\n",
       "<table border=\"1\" class=\"dataframe\">\n",
       "  <thead>\n",
       "    <tr style=\"text-align: right;\">\n",
       "      <th></th>\n",
       "      <th>library</th>\n",
       "      <th>sample</th>\n",
       "      <th>date</th>\n",
       "      <th>experiment</th>\n",
       "      <th>antibody</th>\n",
       "      <th>concentration</th>\n",
       "      <th>concentration_units</th>\n",
       "      <th>group</th>\n",
       "      <th>selection</th>\n",
       "      <th>frac_escape</th>\n",
       "      <th>cells_sorted</th>\n",
       "      <th>R1</th>\n",
       "    </tr>\n",
       "  </thead>\n",
       "  <tbody>\n",
       "    <tr>\n",
       "      <th>0</th>\n",
       "      <td>lib1</td>\n",
       "      <td>expt_123-129-none-0-reference</td>\n",
       "      <td>210319</td>\n",
       "      <td>expt_123-129</td>\n",
       "      <td>none</td>\n",
       "      <td>0</td>\n",
       "      <td>dilution</td>\n",
       "      <td>B1351</td>\n",
       "      <td>reference</td>\n",
       "      <td>NaN</td>\n",
       "      <td>NaN</td>\n",
       "      <td>/shared/ngs/illumina/agreaney/210323_D00300_12...</td>\n",
       "    </tr>\n",
       "    <tr>\n",
       "      <th>1</th>\n",
       "      <td>lib2</td>\n",
       "      <td>expt_123-129-none-0-reference</td>\n",
       "      <td>210319</td>\n",
       "      <td>expt_123-129</td>\n",
       "      <td>none</td>\n",
       "      <td>0</td>\n",
       "      <td>dilution</td>\n",
       "      <td>B1351</td>\n",
       "      <td>reference</td>\n",
       "      <td>NaN</td>\n",
       "      <td>NaN</td>\n",
       "      <td>/shared/ngs/illumina/agreaney/210323_D00300_12...</td>\n",
       "    </tr>\n",
       "    <tr>\n",
       "      <th>2</th>\n",
       "      <td>lib1</td>\n",
       "      <td>expt_128-COV2-2955-400-escape</td>\n",
       "      <td>210319</td>\n",
       "      <td>expt_128</td>\n",
       "      <td>COV2-2955</td>\n",
       "      <td>400</td>\n",
       "      <td>ng_per_mL</td>\n",
       "      <td>Crowe</td>\n",
       "      <td>escape</td>\n",
       "      <td>0.192</td>\n",
       "      <td>2015511.0</td>\n",
       "      <td>/shared/ngs/illumina/agreaney/210323_D00300_12...</td>\n",
       "    </tr>\n",
       "    <tr>\n",
       "      <th>3</th>\n",
       "      <td>lib2</td>\n",
       "      <td>expt_128-COV2-2955-400-escape</td>\n",
       "      <td>210319</td>\n",
       "      <td>expt_128</td>\n",
       "      <td>COV2-2955</td>\n",
       "      <td>400</td>\n",
       "      <td>ng_per_mL</td>\n",
       "      <td>Crowe</td>\n",
       "      <td>escape</td>\n",
       "      <td>0.191</td>\n",
       "      <td>2010148.0</td>\n",
       "      <td>/shared/ngs/illumina/agreaney/210323_D00300_12...</td>\n",
       "    </tr>\n",
       "  </tbody>\n",
       "</table>\n",
       "</div>"
      ],
      "text/plain": [
       "  library                         sample    date    experiment   antibody  \\\n",
       "0    lib1  expt_123-129-none-0-reference  210319  expt_123-129       none   \n",
       "1    lib2  expt_123-129-none-0-reference  210319  expt_123-129       none   \n",
       "2    lib1  expt_128-COV2-2955-400-escape  210319      expt_128  COV2-2955   \n",
       "3    lib2  expt_128-COV2-2955-400-escape  210319      expt_128  COV2-2955   \n",
       "\n",
       "  concentration concentration_units  group  selection  frac_escape  \\\n",
       "0             0            dilution  B1351  reference          NaN   \n",
       "1             0            dilution  B1351  reference          NaN   \n",
       "2           400           ng_per_mL  Crowe     escape        0.192   \n",
       "3           400           ng_per_mL  Crowe     escape        0.191   \n",
       "\n",
       "   cells_sorted                                                 R1  \n",
       "0           NaN  /shared/ngs/illumina/agreaney/210323_D00300_12...  \n",
       "1           NaN  /shared/ngs/illumina/agreaney/210323_D00300_12...  \n",
       "2     2015511.0  /shared/ngs/illumina/agreaney/210323_D00300_12...  \n",
       "3     2010148.0  /shared/ngs/illumina/agreaney/210323_D00300_12...  "
      ]
     },
     "metadata": {},
     "output_type": "display_data"
    }
   ],
   "source": [
    "barcode_runs_subset = (\n",
    "    samples_subset\n",
    "    .melt(id_vars=['name', 'library'],\n",
    "          value_vars=['pre_sample', 'post_sample'],\n",
    "          value_name='sample',\n",
    "          var_name='sample_type')\n",
    "    [['library', 'sample']]\n",
    "    .drop_duplicates()\n",
    "    .reset_index(drop=True)\n",
    "    .merge(barcode_runs,\n",
    "           how='left',\n",
    "           on=['library', 'sample'],\n",
    "           validate='one_to_one',\n",
    "           )\n",
    "    )\n",
    "\n",
    "assert barcode_runs_subset['R1'].notnull().all(), 'some barcode runs missing R1'\n",
    "\n",
    "barcode_runs_subset_file = 'barcode_runs_subset.csv'\n",
    "print(f\"Here are the subsetted barcode runs. Writing to {barcode_runs_subset_file}\")\n",
    "barcode_runs_subset.to_csv(barcode_runs_subset_file, index=False)\n",
    "display(barcode_runs_subset)"
   ]
  }
 ],
 "metadata": {
  "language_info": {
   "name": "python"
  }
 },
 "nbformat": 4,
 "nbformat_minor": 4
}
